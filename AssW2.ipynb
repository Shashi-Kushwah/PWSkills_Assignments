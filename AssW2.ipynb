{
 "cells": [
  {
   "cell_type": "markdown",
   "id": "0ef7b72d",
   "metadata": {},
   "source": [
    "Q1. How do you comment code in Python? What are the different types of comments?\n",
    "\n",
    "Ans:-Usually Comments starts with a '#' in Python, and it's interpreter will ignore them they actually used to make the code more readable. Usually we have two types of comments however pyhton is only have one symbol to represent the comment:\n",
    "\n",
    "1. Single Line Comment:- which start with '#' in python, by this we can make a single line as a comment.    \n",
    "2. Multiline comment:- Python does not really have a syntax for multiline comments.If we want to comments multiple line together we can use '#' Symbol in front of each line. We can also use multiline string. Since python will ignore string literals that are not assigned it to a variable, we can add a triple quotes in our code, and place our comment inside it."
   ]
  },
  {
   "cell_type": "code",
   "execution_count": 5,
   "id": "773d7b21",
   "metadata": {},
   "outputs": [
    {
     "name": "stdout",
     "output_type": "stream",
     "text": [
      "Hello World\n"
     ]
    },
    {
     "data": {
      "text/plain": [
       "'Hi \\nthis you can consider as a Multiline Comment'"
      ]
     },
     "execution_count": 5,
     "metadata": {},
     "output_type": "execute_result"
    }
   ],
   "source": [
    "#Examples:-\n",
    "print(\"Hello World\")#Single line Comment\n",
    "\n",
    "'''Hi \n",
    "this you can consider as a Multiline Comment'''"
   ]
  },
  {
   "cell_type": "markdown",
   "id": "fe37b7d5",
   "metadata": {},
   "source": [
    "Q2. What are variables in Python? How do you declare and assign values to variables?\n",
    "\n",
    "Ans:- A Python variable is a name given to a memory location.\n",
    "It's like a container which stores different types of values which we can use it whenever we need it.\n",
    "Since Python is an infer language that is smart enough to determine the type of a variable, we do not need to specify its type in Python.\n",
    "\n",
    "In Python, we don't have to explicitly declare variables. The variable is declared automatically whenever a value is added to it.\n",
    "The equal (=) operator is utilized to assign worth to a variable."
   ]
  },
  {
   "cell_type": "code",
   "execution_count": 2,
   "id": "3cbeeb10",
   "metadata": {},
   "outputs": [
    {
     "name": "stdout",
     "output_type": "stream",
     "text": [
      "This is a variable which is currently storing a string\n"
     ]
    }
   ],
   "source": [
    "#Ex:-\n",
    "variable1 = \"This is a variable which is currently storing a string\"\n",
    "print(variable1)"
   ]
  },
  {
   "cell_type": "markdown",
   "id": "aff05f7b",
   "metadata": {},
   "source": [
    "Q3. How do you convert one data type to another in Python?\n",
    "\n",
    "Ans: Type Casting is the method to convert the Python variable datatype into a certain data type. \n",
    "There can be two types of Type Casting in Python:\n",
    "\n",
    "1.Implicit Type Conversion:- Python converts the datatype into another datatype automatically.\n",
    "                            Users don’t have to involve in this process. \n",
    "2.Explicit Type Conversion:- In this method, Python needs user involvement to convert the variable data type into the required data type.\n",
    "Examples of Type Casting in Python\n",
    "Mainly type casting can be done with these data type functions:\n",
    "\n",
    "Int(): Python Int() function take float or string as an argument and returns int type object.\n",
    "float(): Python float() function take int or string as an argument and return float type object.\n",
    "str(): Python str() function takes float or int as an argument and returns string type object."
   ]
  },
  {
   "cell_type": "code",
   "execution_count": 3,
   "id": "7fd620bf",
   "metadata": {},
   "outputs": [
    {
     "name": "stdout",
     "output_type": "stream",
     "text": [
      "<class 'int'>\n",
      "4 -- <class 'str'>\n",
      "4 -- <class 'int'>\n"
     ]
    }
   ],
   "source": [
    "#implicit type Casting\n",
    " \n",
    "# Python automatically converts\n",
    "# a to int\n",
    "a = 7\n",
    "print(type(a))\n",
    "\n",
    "# Explicit Type Conversion\n",
    "#Ex:-\n",
    "v2 = \"4\"\n",
    "print(\"{} -- {}\".format(v2, type(v2)))\n",
    "v3 = int(v2)  #typecasting variable2 to an integeral value\n",
    "print(\"{} -- {}\".format(v3, type(v3)))"
   ]
  },
  {
   "cell_type": "markdown",
   "id": "a0e2e2a8",
   "metadata": {},
   "source": [
    "Q4. How do you write and execute a Python script from the command line?\n",
    "\n",
    "Ans:-Open a command line and type the word python followed by the path to your script file like this: \"python first_script.py Hello World!\" \n",
    "Then hit the ENTER button from the keyboard."
   ]
  },
  {
   "cell_type": "markdown",
   "id": "08c01398",
   "metadata": {},
   "source": [
    "Q5. Given a list my_list = [1, 2, 3, 4, 5], write the code to slice the list and obtain the sub-list [2, 3]."
   ]
  },
  {
   "cell_type": "code",
   "execution_count": 4,
   "id": "fcde1652",
   "metadata": {},
   "outputs": [
    {
     "data": {
      "text/plain": [
       "[2, 3]"
      ]
     },
     "execution_count": 4,
     "metadata": {},
     "output_type": "execute_result"
    }
   ],
   "source": [
    "#Ans:-\n",
    "\n",
    "my_list = [1, 2, 3, 4, 5]\n",
    "\n",
    "sub_list = my_list[1:3]\n",
    "sub_list"
   ]
  },
  {
   "cell_type": "markdown",
   "id": "08c1e869",
   "metadata": {},
   "source": [
    "Q6. What is a complex number in mathematics, and how is it represented in Python?\n",
    "\n",
    "Ans:-Complex numbers are the numbers that are expressed in the form of a+ib where, a,b are real numbers and 'i' is an imaginary number called “iota”. The value of i = (√-1).\n",
    "In python complex numbers are created from two real numbers. You can create it directly or you can use the complex function. \n",
    "It is written in the form of (x + yj) where x and y are real numbers and j is an imaginary number.\n"
   ]
  },
  {
   "cell_type": "markdown",
   "id": "3dfd0c6a",
   "metadata": {},
   "source": [
    "Q7. What is the correct way to declare a variable named age and assign the value 25 to it?"
   ]
  },
  {
   "cell_type": "code",
   "execution_count": 6,
   "id": "3c1d689d",
   "metadata": {},
   "outputs": [],
   "source": [
    "#Ans:-\n",
    "age=25"
   ]
  },
  {
   "cell_type": "markdown",
   "id": "97e47415",
   "metadata": {},
   "source": [
    "Q8. Declare a variable named price and assign the value 9.99 to it. What data type does this variable\n",
    "belong to?"
   ]
  },
  {
   "cell_type": "code",
   "execution_count": 7,
   "id": "7371a71b",
   "metadata": {},
   "outputs": [
    {
     "data": {
      "text/plain": [
       "float"
      ]
     },
     "execution_count": 7,
     "metadata": {},
     "output_type": "execute_result"
    }
   ],
   "source": [
    "#Ans:-\n",
    "price=9.99\n",
    "# Price is Floating point number or a decimal.It belongs to float\n",
    "type(price)"
   ]
  },
  {
   "cell_type": "markdown",
   "id": "d31e59f1",
   "metadata": {},
   "source": [
    "Q9. Create a variable named name and assign your full name to it as a string. How would you print the\n",
    "value of this variable?"
   ]
  },
  {
   "cell_type": "code",
   "execution_count": 8,
   "id": "7b320df4",
   "metadata": {},
   "outputs": [
    {
     "name": "stdout",
     "output_type": "stream",
     "text": [
      "Shashi Kushwah\n"
     ]
    }
   ],
   "source": [
    "#Ans:-\n",
    "name=\"Shashi Kushwah\"\n",
    "print(name)"
   ]
  },
  {
   "cell_type": "markdown",
   "id": "3c721b9d",
   "metadata": {},
   "source": [
    "Q10. Given the string \"Hello, World!\", extract the substring \"World\"."
   ]
  },
  {
   "cell_type": "code",
   "execution_count": 9,
   "id": "25a71108",
   "metadata": {},
   "outputs": [
    {
     "data": {
      "text/plain": [
       "'World'"
      ]
     },
     "execution_count": 9,
     "metadata": {},
     "output_type": "execute_result"
    }
   ],
   "source": [
    "#Ans:-\n",
    "string = \"Hello World\"\n",
    "sub_string = string[6:11]\n",
    "sub_string"
   ]
  },
  {
   "cell_type": "markdown",
   "id": "6706bd4b",
   "metadata": {},
   "source": [
    "Q11. Create a variable named \"is_student\" and assign it a boolean value indicating whether you are\n",
    "currently a student or not."
   ]
  },
  {
   "cell_type": "code",
   "execution_count": 10,
   "id": "000a4806",
   "metadata": {},
   "outputs": [],
   "source": [
    "#Ans:-\n",
    "is_student = True"
   ]
  },
  {
   "cell_type": "code",
   "execution_count": null,
   "id": "70de2d61",
   "metadata": {},
   "outputs": [],
   "source": []
  }
 ],
 "metadata": {
  "kernelspec": {
   "display_name": "Python 3 (ipykernel)",
   "language": "python",
   "name": "python3"
  },
  "language_info": {
   "codemirror_mode": {
    "name": "ipython",
    "version": 3
   },
   "file_extension": ".py",
   "mimetype": "text/x-python",
   "name": "python",
   "nbconvert_exporter": "python",
   "pygments_lexer": "ipython3",
   "version": "3.11.3"
  }
 },
 "nbformat": 4,
 "nbformat_minor": 5
}
