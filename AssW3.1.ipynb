{
 "cells": [
  {
   "cell_type": "markdown",
   "id": "6627e14b",
   "metadata": {},
   "source": [
    "Q1. Which keyword is used to create a function? Create a function to return a list of odd numbers in the\n",
    "range of 1 to 25.\n",
    "\n"
   ]
  },
  {
   "cell_type": "code",
   "execution_count": 2,
   "id": "b2ba4b63",
   "metadata": {},
   "outputs": [
    {
     "data": {
      "text/plain": [
       "[1, 3, 5, 7, 9, 11, 13, 15, 17, 19, 21, 23, 25]"
      ]
     },
     "execution_count": 2,
     "metadata": {},
     "output_type": "execute_result"
    }
   ],
   "source": [
    "#Ans:- 'def' Keyword is used to create a function in python \n",
    "def odd_number():\n",
    "    return [i for i in range(1,26) if i%2!=0]\n",
    "\n",
    "odd_number()"
   ]
  },
  {
   "cell_type": "markdown",
   "id": "8d404e8e",
   "metadata": {},
   "source": [
    "Q2. Why *args and **kwargs is used in some functions? Create a function each for *args and **kwargs to\n",
    "demonstrate their use.\n",
    "\n",
    "Ans:- *args:-The special syntax *args in function definitions in Python is used to pass a variable number of arguments to a function. It is used to pass a non-keyworded, variable-length argument list. \n",
    "\n",
    "Note: “We use the “wildcard” or “*” notation like this – *args OR **kwargs – as our function’s argument when we have doubts about the number of  arguments we should pass in a function.” \n",
    "\n",
    "**Kwargs:- The special syntax **kwargs in function definitions in Python is used to pass a keyworded, variable-length argument list. We use the name kwargs with the double star. The reason is that the double star allows us to pass through keyword arguments (and any number of them)."
   ]
  },
  {
   "cell_type": "code",
   "execution_count": 5,
   "id": "dd3bf1c1",
   "metadata": {},
   "outputs": [
    {
     "name": "stdout",
     "output_type": "stream",
     "text": [
      "(1, 2, 3)\n",
      "(9, 'abcd', [True, False], [1, 2, 3, 4])\n",
      "{'bits': [1, 0], 'name': 'Shashi Kushwah'}\n"
     ]
    }
   ],
   "source": [
    "def use_args(*args):\n",
    "    return args\n",
    "\n",
    "def use_kwargs(**kwargs):\n",
    "    return kwargs\n",
    "\n",
    "print(use_args(1,2,3))\n",
    "print(use_args(9, \"abcd\", [True, False],[1,2,3,4]))\n",
    "\n",
    "print(use_kwargs(bits=[1,0], name=\"Shashi Kushwah\"))"
   ]
  },
  {
   "cell_type": "markdown",
   "id": "452452f1",
   "metadata": {},
   "source": [
    "Q3. What is an iterator in python? Name the method used to initialise the iterator object and the method\n",
    "used for iteration. Use these methods to print the first five elements of the given list [2, 4, 6, 8, 10, 12, 14, 16,\n",
    "18, 20].\n",
    "\n",
    "Ans:-An iterator in Python is an object that contains a countable number of elements that can be iterated upon.\n",
    "In simpler words, we can say that Iterators are objects that allow you to traverse through all the elements of a collection and return one element at a time.\n",
    "\n",
    "Iter() method is used to initialize the iterator object so that the instance of this object can be used for iterating.\n",
    "It uses the next() method for iteration.\n",
    "\n",
    "\n"
   ]
  },
  {
   "cell_type": "code",
   "execution_count": 6,
   "id": "134a80ca",
   "metadata": {},
   "outputs": [
    {
     "name": "stdout",
     "output_type": "stream",
     "text": [
      "2\n",
      "4\n",
      "6\n",
      "8\n",
      "10\n"
     ]
    }
   ],
   "source": [
    "l = [2, 4, 6, 8, 10, 12, 14, 16, 18, 20]\n",
    "iterator_object = iter(l)\n",
    "for i in range(5):\n",
    "    print(next(iterator_object))"
   ]
  },
  {
   "cell_type": "markdown",
   "id": "1d80ab14",
   "metadata": {},
   "source": [
    "Q4. What is a generator function in python? Why yield keyword is used? Give an example of a generator\n",
    "function.\n",
    "\n",
    "Ans:-\n",
    "Generator function:-A type of function that is memory efficient and can be used like an iterator object.\n",
    "It behave and look just like normal functions, but with one defining characteristic. \n",
    "Instead of returning data, Python generator functions use the yield keyword. \n",
    "Generator's main benefit is that they automatically create the functions __iter__() and next (). \n",
    "Generators offer a very tidy technique to produce data that is enormous or limitless.\n",
    "yield keyword is used to create a generator function. "
   ]
  },
  {
   "cell_type": "code",
   "execution_count": 11,
   "id": "0f3dfe42",
   "metadata": {},
   "outputs": [
    {
     "name": "stdout",
     "output_type": "stream",
     "text": [
      "1\n",
      "2\n",
      "3\n",
      "4\n",
      "5\n",
      "6\n",
      "7\n",
      "8\n"
     ]
    }
   ],
   "source": [
    "#Ex:-\n",
    "def gen_func(n):\n",
    "        for i in range(1,n):\n",
    "            yield i\n",
    "       \n",
    "        \n",
    "for i in gen_func(9):\n",
    "    print(i)"
   ]
  },
  {
   "cell_type": "markdown",
   "id": "49587060",
   "metadata": {},
   "source": [
    "Q5. Create a generator function for prime numbers less than 1000. Use the next() method to print the\n",
    "first 20 prime numbers."
   ]
  },
  {
   "cell_type": "code",
   "execution_count": 43,
   "id": "e2ed1c4d",
   "metadata": {},
   "outputs": [
    {
     "name": "stdout",
     "output_type": "stream",
     "text": [
      "1\n",
      "2\n",
      "3\n",
      "5\n",
      "7\n",
      "9\n",
      "11\n",
      "13\n",
      "15\n",
      "17\n",
      "19\n",
      "21\n",
      "23\n",
      "25\n",
      "27\n",
      "29\n",
      "31\n",
      "33\n",
      "35\n",
      "37\n"
     ]
    }
   ],
   "source": [
    "#Ans:-\n",
    "def prime_no(n):\n",
    "    if n>1:\n",
    "        for i in range(2,int(n/2)+1):\n",
    "            if (n%i) == 0:\n",
    "                return False\n",
    "            return True\n",
    "    return True\n",
    "# generator function for prime number less then 1000.\n",
    "def prime_no_yield():\n",
    "    for i in range(1,1000):\n",
    "        if prime_no(i):\n",
    "            yield i\n",
    "            \n",
    "i=iter(prime_no_yield())\n",
    "# For printing first 20 prime number using next()\n",
    "for j in range(0,20):\n",
    "       print(next(i))\n"
   ]
  },
  {
   "cell_type": "code",
   "execution_count": null,
   "id": "d6b22f3f",
   "metadata": {},
   "outputs": [],
   "source": []
  },
  {
   "cell_type": "code",
   "execution_count": null,
   "id": "ebe78dc2",
   "metadata": {},
   "outputs": [],
   "source": []
  }
 ],
 "metadata": {
  "kernelspec": {
   "display_name": "Python 3 (ipykernel)",
   "language": "python",
   "name": "python3"
  },
  "language_info": {
   "codemirror_mode": {
    "name": "ipython",
    "version": 3
   },
   "file_extension": ".py",
   "mimetype": "text/x-python",
   "name": "python",
   "nbconvert_exporter": "python",
   "pygments_lexer": "ipython3",
   "version": "3.11.3"
  }
 },
 "nbformat": 4,
 "nbformat_minor": 5
}
