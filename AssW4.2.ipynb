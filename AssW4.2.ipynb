{
 "cells": [
  {
   "cell_type": "markdown",
   "id": "3eb8b71b",
   "metadata": {},
   "source": [
    "Q1, Create a vehicle class with an init method having instance variables as name_of_vehicle, max_speed\n",
    "and average_of_vehicle."
   ]
  },
  {
   "cell_type": "code",
   "execution_count": 3,
   "id": "df0f827b",
   "metadata": {},
   "outputs": [],
   "source": [
    "#Ans:-\n",
    "class vehicle:\n",
    "    #Constructor\n",
    "    def __init__(self ,name_of_vehicle, max_speed, average_of_vehicle):\n",
    "        self.name_of_vehicle=name_of_vehicle\n",
    "        self.max_speed=max_speed\n",
    "        self.average_of_vehicle=average_of_vehicle\n",
    "    \n",
    "   "
   ]
  },
  {
   "cell_type": "markdown",
   "id": "b5a33893",
   "metadata": {},
   "source": [
    "Q2. Create a child class car from the vehicle class created in Que 1, which will inherit the vehicle class.\n",
    "Create a method named seating_capacity which takes capacity as an argument and returns the name of\n",
    "the vehicle and its seating capacity"
   ]
  },
  {
   "cell_type": "code",
   "execution_count": 5,
   "id": "d5b1d41c",
   "metadata": {},
   "outputs": [],
   "source": [
    "#Ans:-\n",
    "class car(vehicle):\n",
    "    def seating_capacity(self, capacity):\n",
    "        return self.name_of_vehicle, capacity"
   ]
  },
  {
   "cell_type": "markdown",
   "id": "9b39a3b5",
   "metadata": {},
   "source": [
    "Q3. What is multiple inheritance? Write a python code to demonstrate multiple inheritance.\n",
    "\n",
    "Ans:-When a class is derived from more than one base class it is called multiple Inheritance.\n",
    "    The derived class inherits all the features of the base case."
   ]
  },
  {
   "cell_type": "code",
   "execution_count": 8,
   "id": "fee30aa5",
   "metadata": {},
   "outputs": [
    {
     "name": "stdout",
     "output_type": "stream",
     "text": [
      "This is class2 \n",
      "This is class1 \n"
     ]
    }
   ],
   "source": [
    "# Code to demonstrate multiple inheritance\n",
    "\n",
    "class class1:\n",
    "    def test_class1(self):\n",
    "        print(\"This is class1 \")\n",
    "\n",
    "class class2:\n",
    "    def test_class2(self):\n",
    "        print(\"This is class2 \")\n",
    "\n",
    "class class3(class1, class2):\n",
    "    def test_class3(self):\n",
    "        print(\"This is class3 \")\n",
    "    \n",
    "    \n",
    "    \n",
    "obj1_class3=class3()\n",
    "obj1_class3.test_class2() #Class3 Inherited the Class2 feature that's why we are able call test_class2()\n",
    "obj1_class3.test_class1() #Class3 Inherited the Class1 feature that's why we are able call test_class1()"
   ]
  },
  {
   "cell_type": "markdown",
   "id": "a7a3e415",
   "metadata": {},
   "source": [
    "Q4. What are getter and setter in python? Create a class and create a getter and a setter method in this\n",
    "class.\n",
    "\n",
    "Ans:- Getter and Setter functions in python are used to get and set the private properties of the class which cannot be accessed directly. \n"
   ]
  },
  {
   "cell_type": "code",
   "execution_count": 9,
   "id": "46636ac2",
   "metadata": {},
   "outputs": [],
   "source": [
    "# Create a class and create a getter and a setter method in this class.\n",
    "\n",
    "class login:\n",
    "    def __init__(self, name, password):\n",
    "        self.name = name\n",
    "        self.__password = password\n",
    "        \n",
    "    #getter\n",
    "    def get_password(self):\n",
    "        return self.__password\n",
    "    \n",
    "    #setter\n",
    "    def set_password(self, newpassword):\n",
    "        self.__password = newpassword"
   ]
  },
  {
   "attachments": {},
   "cell_type": "markdown",
   "id": "3306de96",
   "metadata": {},
   "source": [
    "Q5.What is method overriding in python? Write a python code to demonstrate method overriding.\n",
    "\n",
    "Ans:- Method overriding is an ability of any object-oriented programming language that allows a subclass or child class to provide a specific implementation of a method that is already provided by one of its super-classes or parent classes. When a method in a subclass has the same name, same parameters or signature and same return type(or sub-type) as a method in its super-class, then the method in the subclass is said to override the method in the super-class.\n"
   ]
  },
  {
   "cell_type": "code",
   "execution_count": 12,
   "id": "db307bd6",
   "metadata": {},
   "outputs": [
    {
     "name": "stdout",
     "output_type": "stream",
     "text": [
      "Cricket, Art\n",
      "cooking, tennis\n"
     ]
    }
   ],
   "source": [
    "class father:\n",
    "    def hobbies(self):\n",
    "        print(\"cooking, tennis\")\n",
    "class child1(father):\n",
    "    pass\n",
    "class child2(father):\n",
    "    def hobbies(self): #method overriding\n",
    "        print(\"Cricket, Art\")\n",
    "        \n",
    "shashi = child1()\n",
    "mukesh = child2()\n",
    "\n",
    "mukesh.hobbies()\n",
    "shashi.hobbies()"
   ]
  },
  {
   "cell_type": "code",
   "execution_count": null,
   "id": "a536865f",
   "metadata": {},
   "outputs": [],
   "source": []
  }
 ],
 "metadata": {
  "kernelspec": {
   "display_name": "Python 3 (ipykernel)",
   "language": "python",
   "name": "python3"
  },
  "language_info": {
   "codemirror_mode": {
    "name": "ipython",
    "version": 3
   },
   "file_extension": ".py",
   "mimetype": "text/x-python",
   "name": "python",
   "nbconvert_exporter": "python",
   "pygments_lexer": "ipython3",
   "version": "3.11.3"
  }
 },
 "nbformat": 4,
 "nbformat_minor": 5
}
