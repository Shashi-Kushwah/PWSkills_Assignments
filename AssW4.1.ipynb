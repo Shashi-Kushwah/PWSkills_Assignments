{
 "cells": [
  {
   "cell_type": "markdown",
   "id": "4c75f4d0",
   "metadata": {},
   "source": [
    "Q1. Explain Class and Object with respect to Object-Oriented Programming. Give a suitable example.\n",
    "\n",
    "Ans:-\n",
    "CLass:-In OOPs a class is a user-defined blueprint or prototype from which objects are created.\n",
    "Classes provide a means of bundling data and functionality together.\n",
    "\n",
    "Object:-In OPPS an Object is an instance of a Class. A class is like a blueprint while an instance is a copy of the class with actual values. \n",
    "\n",
    "Syntax: Class Definition\n",
    "\n",
    "class ClassName:\n",
    "    # Statement\n",
    "    \n",
    "Syntax: Object Definition\n",
    "\n",
    "obj = ClassName()\n",
    "print(obj.atrr)"
   ]
  },
  {
   "cell_type": "code",
   "execution_count": 4,
   "id": "bf8f8cee",
   "metadata": {},
   "outputs": [
    {
     "name": "stdout",
     "output_type": "stream",
     "text": [
      "8989798340\n",
      "(8989798340, 'rohan@pwskill.com', 101)\n"
     ]
    }
   ],
   "source": [
    "#Ex:\n",
    "#Class Defination\n",
    "class pwskills:\n",
    "    #Constructor\n",
    "    def __init__(self ,phone_number, email_id, student_id):\n",
    "        self.phone_number=phone_number\n",
    "        self.email_id=email_id\n",
    "        self.student_id=student_id\n",
    "    \n",
    "    def return_student_details(self):\n",
    "        return self.phone_number,self.email_id,self.student_id\n",
    "\n",
    "#Object Defination\n",
    "rohan=pwskills(8989798340,\"rohan@pwskill.com\",101)\n",
    "\n",
    "# Accessing class attributes \n",
    "print(rohan.phone_number)\n",
    "#and method through objects\n",
    "print(rohan.return_student_details())"
   ]
  },
  {
   "cell_type": "markdown",
   "id": "298c3438",
   "metadata": {},
   "source": [
    "Q2. Name the four pillars of OOPs.\n",
    "\n",
    "Ans:-The four pillars of OOPS are:\n",
    "1.Abstraction:An abstraction is a form of simplification and organization, allowing developers to focus on the essential parts of their code without focusing on the implementation details. It helps developers create code in a more efficient manner, while still providing the same functionality.\n",
    "\n",
    "2.Encapsulation:Encapsulation is the process of combining data and codes into a single unit. It helps keep code organized, as well as helps prevent accidental data manipulation and changes.\n",
    "\n",
    "3.Inheritance:Inheritance is the process of creating new classes based on an existing class. It allows the developer to create subclasses that will inherit the attributes and behaviors of the parent class. This makes it easy to reuse code, making development faster and more efficient.\n",
    "\n",
    "4.Polymorphism:polymorphism is a form of abstraction that allows different classes to fulfill the same behavior. By taking advantage of polymorphism, developers can create code that is more easily maintained and more versatile."
   ]
  },
  {
   "cell_type": "markdown",
   "id": "394717c6",
   "metadata": {},
   "source": [
    "Q3. Explain why the __init__() function is used. Give a suitable example.\n",
    "\n",
    "Ans:-In python __init__() function is the constructors of the class. Which is used to initialize the object.\n",
    "A constructor also contains a collection of statements(i.e. instructions) that are executed at the time of Object creation. It is run as soon as an object of a class is instantiated. The method is useful to do any initialization you want to do with your object.\n"
   ]
  },
  {
   "cell_type": "code",
   "execution_count": 8,
   "id": "cd4cb652",
   "metadata": {},
   "outputs": [
    {
     "name": "stdout",
     "output_type": "stream",
     "text": [
      "Hello, my name is Shashi\n"
     ]
    }
   ],
   "source": [
    "#Ex:-\n",
    "class Human:\n",
    " \n",
    "    # init method or constructor\n",
    "    def __init__(self, name):\n",
    "        self.name = name\n",
    " \n",
    "    def say_hi(self):\n",
    "        print('Hello, my name is', self.name)\n",
    " \n",
    " \n",
    "p = Person('Shashi')\n",
    "p.say_hi()"
   ]
  },
  {
   "cell_type": "markdown",
   "id": "532dd560",
   "metadata": {},
   "source": [
    "Q4. Why self is used in OOPs?\n",
    "\n",
    "Ans:self is used in OOPS to bind methods and properties to their classes"
   ]
  },
  {
   "cell_type": "markdown",
   "id": "6acb4412",
   "metadata": {},
   "source": [
    "Q5. What is inheritance? Give an example for each type of inheritance.\n",
    "\n",
    "Ans:-In OOPS, inheritance means giving access of a parent class methods and properties to a child class.\n",
    "    There are 5 types of inheritance \n",
    "    Single inheritance, Multilevel inheritance, Multiple inheritance, hierarchical inheritance and hybrid inheritance"
   ]
  },
  {
   "cell_type": "code",
   "execution_count": 10,
   "id": "1ed982b8",
   "metadata": {},
   "outputs": [
    {
     "name": "stdout",
     "output_type": "stream",
     "text": [
      "Blood group is B Positive\n",
      "Blood group is B Positive\n",
      "Blood group is B Positive\n",
      "\n",
      "\n",
      "\n",
      "square face\n",
      "playing football\n"
     ]
    }
   ],
   "source": [
    "#example of single inheritance --\n",
    "class parent:\n",
    "    pass\n",
    "class child(parent):\n",
    "    pass\n",
    "\n",
    "#example of multilevel inheritance --\n",
    "class grandfather:\n",
    "    def showbloodgroup(self):\n",
    "        print(\"Blood group is B Positive\")\n",
    "class father(grandfather):\n",
    "    pass\n",
    "class son(father):\n",
    "    pass\n",
    "        \n",
    "mukesh = grandfather()\n",
    "suresh = father()\n",
    "niresh = son()\n",
    "\n",
    "mukesh.showbloodgroup()\n",
    "suresh.showbloodgroup()\n",
    "niresh.showbloodgroup()\n",
    "print(\"\\n\\n\")\n",
    "\n",
    "#example of multiple inheritance\n",
    "class dad:\n",
    "    def facetype(self):\n",
    "        print(\"square face\")\n",
    "class mom:\n",
    "    def hobbies(self):\n",
    "        print(\"playing football\")\n",
    "class child(dad, mom):\n",
    "    pass\n",
    "\n",
    "\n",
    "himesh = child()\n",
    "himesh.facetype()\n",
    "himesh.hobbies()\n",
    "\n",
    "#example of heirarchial inheritance--\n",
    "class parentcls:\n",
    "    pass\n",
    "class child1(parentcls):\n",
    "    pass\n",
    "class child2(parentcls):\n",
    "    pass\n",
    "\n",
    "#example of hybrid inheritance --\n",
    "class vehicle_industry:\n",
    "    pass\n",
    "class company1(vehicle_industry):\n",
    "    pass\n",
    "class company2(vehicle_industry):\n",
    "    pass\n",
    "class bike(company1, vehicle_industry):\n",
    "    pass"
   ]
  },
  {
   "cell_type": "code",
   "execution_count": null,
   "id": "d6217b8f",
   "metadata": {},
   "outputs": [],
   "source": []
  }
 ],
 "metadata": {
  "kernelspec": {
   "display_name": "Python 3 (ipykernel)",
   "language": "python",
   "name": "python3"
  },
  "language_info": {
   "codemirror_mode": {
    "name": "ipython",
    "version": 3
   },
   "file_extension": ".py",
   "mimetype": "text/x-python",
   "name": "python",
   "nbconvert_exporter": "python",
   "pygments_lexer": "ipython3",
   "version": "3.11.3"
  }
 },
 "nbformat": 4,
 "nbformat_minor": 5
}
