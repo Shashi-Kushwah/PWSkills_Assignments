{
 "cells": [
  {
   "cell_type": "markdown",
   "id": "8843468b-9e02-4c08-ab13-8243986c2a31",
   "metadata": {},
   "source": [
    "Q1. Create one variable containing following type of data:\n",
    "\n",
    "(i)\tstring\n",
    "\n",
    "(ii)\tlist\n",
    "\n",
    "(iii)\tfloat\n",
    "\n",
    "(iv)\ttuple"
   ]
  },
  {
   "cell_type": "code",
   "execution_count": 1,
   "id": "3a6cf39a-eea3-4831-8fd3-2e9c12492795",
   "metadata": {},
   "outputs": [
    {
     "name": "stdout",
     "output_type": "stream",
     "text": [
      "<class 'str'> <class 'list'> <class 'float'> <class 'tuple'>\n"
     ]
    }
   ],
   "source": [
    "a=\"Shashi\" #string\n",
    "b=['a',5326,78.46,\"jsgdiu\"] #list\n",
    "c=78.46 #float\n",
    "d=(34,67,58,468) #tuple\n",
    "print(type(a),type(b),type(c),type(d))"
   ]
  },
  {
   "cell_type": "markdown",
   "id": "0afe410b-a0ef-4b17-b150-c1ef071ef5d3",
   "metadata": {},
   "source": [
    "Q2. Given are some following variables containing data:\n",
    "\n",
    "(i)\tvar1 = ‘ ‘\n",
    "\n",
    "(ii)\tvar2 = ‘[ DS , ML , Python]’\n",
    "\n",
    "(iii)\tvar3 = [ ‘DS’ , ’ML’ , ‘Python’ ]\n",
    "\n",
    "(iv)\tvar4 = 1\n",
    "\n",
    "What will be the data type of the above given variable."
   ]
  },
  {
   "cell_type": "code",
   "execution_count": 9,
   "id": "0973b1c2-e137-4a73-b9e1-47e6012f2644",
   "metadata": {},
   "outputs": [
    {
     "name": "stdout",
     "output_type": "stream",
     "text": [
      "<class 'str'>\n",
      "<class 'str'>\n",
      "<class 'list'>\n",
      "<class 'int'>\n"
     ]
    }
   ],
   "source": [
    "var1 = ''\n",
    "var2 = '[ DS , ML , Python]'\n",
    "var3 = [ 'DS' , 'ML' , 'Python' ]\n",
    "var4 = 1\n",
    "print(type(var1))\n",
    "print(type(var2))\n",
    "print(type(var3))\n",
    "print(type(var4))"
   ]
  },
  {
   "cell_type": "markdown",
   "id": "acc90245-46ae-4896-b2b6-e35c6e776323",
   "metadata": {},
   "source": [
    "Q3. Explain the use of the following operators using an example:\n",
    "\n",
    "(i)\t  / \n",
    "\n",
    "(ii)\t% \n",
    "\n",
    "(iii)\t//\n",
    "\n",
    "(iv)\t**"
   ]
  },
  {
   "cell_type": "code",
   "execution_count": 13,
   "id": "b6c592f0-d7cc-4acf-88c1-c44cf7008d40",
   "metadata": {},
   "outputs": [
    {
     "name": "stdout",
     "output_type": "stream",
     "text": [
      "13.166666666666666\n",
      "1\n",
      "13\n",
      "243087455521\n"
     ]
    }
   ],
   "source": [
    "\"\"\"use of Below operators:\n",
    " '/' -It's a division operator to divide the operands and give the output as quotient\n",
    " '%'- It's a modulus operator which use to get a remainder after dividing the 1st operand with second operand\n",
    " '//'- It's a floor division operator use to get floor value of the quotient\n",
    " '**' - It's a \tExponentiation operator which use to get the exponent of the left operand raised to the power of the right operand\"\"\"\n",
    "a=79\n",
    "b=6\n",
    "\n",
    "print(a/b) # for example a= 79 and b=6 if we divide 79/6 we will get quotient 13.1666\n",
    "print(a%b) # for example a= 79 and b=6 if we divide 79/6 we will get remainder 1\n",
    "print(a//b) # for example a= 79 and b=6 if we divide 79/6 we will get quotient 13.1666 and the floor value of (13.1666) is 13\n",
    "print(a**b) # for example a= 79 and b=6 if calucalte 79^6 we will get quotient 243087455521"
   ]
  },
  {
   "cell_type": "markdown",
   "id": "213bcbfb-98f9-48cc-a716-dc878e751dae",
   "metadata": {},
   "source": [
    "Q4. Create a list of length 10 of your choice containing multiple types of data. Using for loop print the \n",
    "element and its data type."
   ]
  },
  {
   "cell_type": "code",
   "execution_count": 15,
   "id": "771c332e-7c05-4db3-a88c-f5c9486a7088",
   "metadata": {},
   "outputs": [
    {
     "name": "stdout",
     "output_type": "stream",
     "text": [
      "1 <class 'int'>\n",
      "False <class 'bool'>\n",
      "True <class 'bool'>\n",
      "230.9 <class 'float'>\n",
      "shhd <class 'str'>\n",
      "(5+6j) <class 'complex'>\n",
      "{1, 23, 87} <class 'set'>\n",
      "('dsnj',) <class 'tuple'>\n",
      "ghsdvu <class 'str'>\n",
      "{132: 87, 45: 34986, 46: 46347} <class 'dict'>\n"
     ]
    }
   ],
   "source": [
    "l=[1,False,True,230.9,\"shhd\",5+6j,{1,23,23,87},('dsnj',),('ghsdvu'),{132:87,45:34986,46:46347}]\n",
    "\n",
    "for j in l:\n",
    "       print(j,type(j))"
   ]
  },
  {
   "cell_type": "markdown",
   "id": "358f3b21-37dc-4dd6-b733-e9ea776ee38f",
   "metadata": {},
   "source": [
    "Q5. Using a while loop, verify if the number A is purely divisible by number B and if so then how many \n",
    "times it can be divisible."
   ]
  },
  {
   "cell_type": "code",
   "execution_count": 5,
   "id": "8cdecfdd-7a08-442b-a180-724bdb08cf74",
   "metadata": {},
   "outputs": [
    {
     "name": "stdin",
     "output_type": "stream",
     "text": [
      "Please enter first No: 9\n",
      "Please enter second No: 3\n"
     ]
    },
    {
     "name": "stdout",
     "output_type": "stream",
     "text": [
      "A is 2 times purely divisble by B\n"
     ]
    }
   ],
   "source": [
    "A = int(input(\"Please enter first No:\"))\n",
    "B = int(input(\"Please enter second No:\"))\n",
    "i = 0\n",
    "\n",
    "while A%B ==0:\n",
    "    A = A/B\n",
    "    i = i+1\n",
    "else:\n",
    "    if i==0:\n",
    "        print(\"A is not purely divisble by B\")\n",
    "    else:\n",
    "        print(\"A is\",i,\"times purely divisble by B\")"
   ]
  },
  {
   "cell_type": "markdown",
   "id": "14ffd6d5-950e-463e-a114-84730dbfc669",
   "metadata": {},
   "source": [
    "Q6. Create a list containing 25 int type data. Using for loop and if-else condition print if the element is \n",
    "divisible by 3 or not."
   ]
  },
  {
   "cell_type": "code",
   "execution_count": 8,
   "id": "1702439b-fa5b-420d-8fe7-926fe26011e8",
   "metadata": {},
   "outputs": [
    {
     "name": "stdout",
     "output_type": "stream",
     "text": [
      "1 is not divisible by 3\n",
      "2 is not divisible by 3\n",
      "3 is divisible by 3\n",
      "4 is not divisible by 3\n",
      "5 is not divisible by 3\n",
      "6 is divisible by 3\n",
      "7 is not divisible by 3\n",
      "8 is not divisible by 3\n",
      "9 is divisible by 3\n",
      "10 is not divisible by 3\n",
      "11 is not divisible by 3\n",
      "12 is divisible by 3\n",
      "13 is not divisible by 3\n",
      "14 is not divisible by 3\n",
      "15 is divisible by 3\n",
      "16 is not divisible by 3\n",
      "17 is not divisible by 3\n",
      "18 is divisible by 3\n",
      "19 is not divisible by 3\n",
      "20 is not divisible by 3\n",
      "21 is divisible by 3\n",
      "22 is not divisible by 3\n",
      "23 is not divisible by 3\n",
      "24 is divisible by 3\n",
      "25 is not divisible by 3\n"
     ]
    }
   ],
   "source": [
    "l1 = [*range(1, 26, 1)]\n",
    "for i in l1:\n",
    "    if i%3==0:\n",
    "        print(i,\"is divisible by 3\")\n",
    "    else:\n",
    "        print(i,\"is not divisible by 3\")"
   ]
  },
  {
   "cell_type": "markdown",
   "id": "a28755c3-dc7d-482a-8f7d-1f72238011e2",
   "metadata": {},
   "source": [
    "Q7. What do you understand about mutable and immutable data types? Give examples for both showing \n",
    "this property."
   ]
  },
  {
   "cell_type": "markdown",
   "id": "024ff3a2-1f47-4f9e-a965-021556ec295e",
   "metadata": {},
   "source": [
    "Immutable datatype cannot be changed after it's created.\n",
    "For Example int, float, bool, string, unicode and tuple.\n",
    "let's take a exple of tuple and try to modified its value at a particular index and print it. As a tupple is immutable datatype, it will throw an error when we try to modify."
   ]
  },
  {
   "cell_type": "code",
   "execution_count": 10,
   "id": "915529fe-20fa-48bc-b1ac-e0cc016cb09a",
   "metadata": {},
   "outputs": [
    {
     "ename": "TypeError",
     "evalue": "'tuple' object does not support item assignment",
     "output_type": "error",
     "traceback": [
      "\u001b[0;31m---------------------------------------------------------------------------\u001b[0m",
      "\u001b[0;31mTypeError\u001b[0m                                 Traceback (most recent call last)",
      "Cell \u001b[0;32mIn[10], line 2\u001b[0m\n\u001b[1;32m      1\u001b[0m tp1\u001b[38;5;241m=\u001b[39m(\u001b[38;5;241m1\u001b[39m,\u001b[38;5;241m2\u001b[39m,\u001b[38;5;241m3\u001b[39m,\u001b[38;5;241m4\u001b[39m,\u001b[38;5;241m5\u001b[39m)\n\u001b[0;32m----> 2\u001b[0m \u001b[43mtp1\u001b[49m\u001b[43m[\u001b[49m\u001b[38;5;241;43m3\u001b[39;49m\u001b[43m]\u001b[49m\u001b[38;5;241m=\u001b[39m\u001b[38;5;241m8\u001b[39m\n\u001b[1;32m      3\u001b[0m \u001b[38;5;28mprint\u001b[39m(tp1)\n",
      "\u001b[0;31mTypeError\u001b[0m: 'tuple' object does not support item assignment"
     ]
    }
   ],
   "source": [
    "tp1=(1,2,3,4,5)\n",
    "tp1[3]=8\n",
    "print(tp1)"
   ]
  },
  {
   "cell_type": "markdown",
   "id": "8e890604-c5b4-4660-b8e4-9f95d6153af4",
   "metadata": {},
   "source": [
    "Muttable can be changed after its created. For Example list, set, dictionary. let's take a example of list and try to modified its value at a particular index and print it. As a list is mutable datatype, it will modify the value.\n",
    "Lists have the ability to add and remove elements dynamically. Lists provide methods such as append(),insert(),extend(),remove() and pop()."
   ]
  },
  {
   "cell_type": "code",
   "execution_count": 13,
   "id": "d9596a6b-0104-4bd2-b59d-120c06e494b5",
   "metadata": {},
   "outputs": [
    {
     "name": "stdout",
     "output_type": "stream",
     "text": [
      "[1, 2, 3, 4]\n",
      "[1, 5, 2, 3, 4]\n",
      "[1, 5, 3, 4]\n"
     ]
    }
   ],
   "source": [
    "\n",
    "l1 = [1, 2, 3]\n",
    "l1.append(4)# it will append 4 at the end of list\n",
    "print(l1)\n",
    " \n",
    "l1.insert(1, 5) # it will insert 5 at index 1\n",
    "print(l1)\n",
    " \n",
    "l1.remove(2)# it will remove value from index 2\n",
    "print(l1)\n",
    " "
   ]
  },
  {
   "cell_type": "code",
   "execution_count": null,
   "id": "c7cc0250-a57a-4624-a968-078861a3758c",
   "metadata": {},
   "outputs": [],
   "source": []
  }
 ],
 "metadata": {
  "kernelspec": {
   "display_name": "Python 3 (ipykernel)",
   "language": "python",
   "name": "python3"
  },
  "language_info": {
   "codemirror_mode": {
    "name": "ipython",
    "version": 3
   },
   "file_extension": ".py",
   "mimetype": "text/x-python",
   "name": "python",
   "nbconvert_exporter": "python",
   "pygments_lexer": "ipython3",
   "version": "3.10.8"
  }
 },
 "nbformat": 4,
 "nbformat_minor": 5
}
